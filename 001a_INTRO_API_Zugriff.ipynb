{
 "cells": [
  {
   "attachments": {},
   "cell_type": "markdown",
   "id": "9e7d5f8c",
   "metadata": {},
   "source": [
    "# A) API Zugriff im lokalen Netzwerk "
   ]
  },
  {
   "attachments": {},
   "cell_type": "markdown",
   "id": "eacf4aed",
   "metadata": {
    "tags": []
   },
   "source": [
    "# A) Das sind die Inhalte:\n",
    "## Sensor- Werte auslesen und speichern\n",
    "1. request an das REST API senden und \"return-object\" analysieren\n",
    "2. dictionary mit json.loads aus dem \"return-object\" erzeugen\n",
    "3. dekodierte Sensor - Messwerte mit \"print\" ausgeben\n",
    "4. Messwerte als .json file ablegen\n",
    "5. Messwerte fortlaufend in einem .db file mitschreiben\n",
    "\n",
    "# B) Das ist dein Arbeitsauftrag: \n",
    "## ->Arbeitsaufgabe 1: \"Dummy - Werte speichern\"\n",
    "\n",
    "### Abgabe als Link zu deinem Github repository: \n",
    "1. initialisiere ein neues .git repository und lege das \"b_nachname_dummy_source\" - file darin ab. Der Source-Code soll nur die notwendigen Bestandteile enthalten, um das geforderte .json und .db file anzulegen. Bitte kommentiere den Source-Code und alle individuellen Anpassungen! Füge einen Screenshot des erzeugten JSON - Files und einen Screenshot der geöffneten Tabelle (z.B. in DB - Browser) genau dort ein, wo sie im Source-Code erzeugt werden.\n",
    "2. speichere die individuell angepassten dummy - Werte in einem .json File \"b_nachname_dummywerte.json\"\n",
    "3. speichere die individuell angepassten dummy - Werte in einer sqlite Datenbank \"b_nachname_dummywerte.db\"\n",
    "4. füge das .json und .db file deinem git repository hinzu und führe ein commit durch. \"-m \"Arbeitsaufgabe Teil 1 Nachname\"\n",
    "\n",
    "## ->Arbeitsaufgabe 2: \"Sensor - Werte speichern\"\n",
    "Das Abfrageintervall ist eine Minute. Die Dauer der Aufzeichnung ist vor dem Start der Aufzeichnung\n",
    "individuell mit dem Lehrer zu vereinbaren.\n",
    "\n",
    "### TODO: *Ersetze die \"dummy-Werte\" durch echte Sensordaten. Speichere die Werte für Luftfeuchtigkeit, Temperatur und Helligkeit:*\n",
    "### Abgabe als Link zu deinem Github repository: \n",
    "1. initialisiere ein neues .git repository und lege das \"source\" - file darin ab. Der Source-Code soll im Unterschied zu Arbeitsaufgabe 1 alle Code-Bestandteile von A1) bis A5) in ausgeführter Form beinhalten und zusätzlich die erforderlichen individuellen Anpassungen inkl. deiner Kommentare. Bitte füge einen Screenshot des erzeugten JSON - Files und einen Screenshot der geöffneten Tabelle (z.B. in DB - Browser) genau dort ein, wo sie im Source-Code erzeugt werden.\n",
    "2. speichere die Sensor - Werte in einem .json File \"b_nachname_sensorwerte.json\"\n",
    "3. speichere die Sensor - Werte in einer sqlite Datenbank \"b_nachname_sensorwerte.db\"\n",
    "4. füge das .json und .db file deinem git repository hinzu und führe ein commit durch. \"-m \"Arbeitsaufgabe Teil 2 Nachname\"\n",
    "\n",
    "\n",
    "\n",
    " "
   ]
  },
  {
   "attachments": {},
   "cell_type": "markdown",
   "id": "c9afbb7b",
   "metadata": {},
   "source": [
    "# Input zu Arbeitsaufgabe 1 und 2\n",
    "### ACHTUNG: Die dummy-Werte für Arbeitsaufgabe 1 müssen individuell z.B. mittels Zufallsgenerator erzeugt werden!\n",
    "### A1) request an das REST API senden und \"return-object\" analysieren"
   ]
  },
  {
   "cell_type": "code",
   "execution_count": 70,
   "id": "04ff8a23",
   "metadata": {},
   "outputs": [],
   "source": [
    "import requests\n",
    "import json\n",
    "#Die Authentifizierung wird im lokalen Netzwerk noch nicht benötigt, aber im nächsten Schritt\n",
    "#from requests.auth import HTTPBasicAuth\n"
   ]
  },
  {
   "attachments": {},
   "cell_type": "markdown",
   "id": "3854a6e2",
   "metadata": {},
   "source": [
    "TODO: 1 Schritt: IP Adresse des Sensors identifizieren! Dazu das Programm \"Advanced IP Scanner \" installieren\n",
    "um die IP - Adressen aller Computer im Netzwerk abzufragen. \n",
    "Um einen geeigente IP - Range festzulegen, cmd starten - eigene IP Adresse (am Kabel abfragen) und IP - 100 bis IP + 100 scannen. \n",
    "Das Gerät ist ein Raspberry Pi und sollte im NW anhand des Namens entsprechend erkannt werden. "
   ]
  },
  {
   "cell_type": "code",
   "execution_count": 71,
   "id": "cb7d2560",
   "metadata": {},
   "outputs": [],
   "source": [
    "my_temp_data = 'http://192.168.1.100:8080/rest/items/ZWave_Node_005_Sensor_temperature'\n",
    "my_hum_data = 'http://192.168.1.100:8080/rest/items/ZWave_Node_005_Sensor_relative_humidity'\n",
    "my_lum_data = 'http://192.168.1.100:8080/rest/items/ZWave_Node_005_Sensor_luminance'\n",
    "my_ultraviolet_data = 'http://192.168.1.100:8080/rest/items/ZWave_Node_005_Sensor_ultraviolet'\n",
    "\n"
   ]
  },
  {
   "cell_type": "code",
   "execution_count": 72,
   "id": "151d719d",
   "metadata": {},
   "outputs": [
    {
     "name": "stdout",
     "output_type": "stream",
     "text": [
      "<Response [200]>\n",
      "<Response [200]>\n",
      "<Response [200]>\n",
      "<Response [200]>\n"
     ]
    }
   ],
   "source": [
    "hum_value = requests.get(my_hum_data)\n",
    "temp_value = requests.get(my_temp_data)\n",
    "ultraviolet_value = requests.get(my_ultraviolet_data)\n",
    "lum_value = requests.get(my_lum_data)\n",
    "\n",
    "\n",
    "# Response [200] = OK\n",
    "print(hum_value)\n",
    "print(temp_value)\n",
    "print(lum_value)\n",
    "print(ultraviolet_value)\n"
   ]
  },
  {
   "cell_type": "code",
   "execution_count": 73,
   "id": "29bb0f35",
   "metadata": {},
   "outputs": [
    {
     "data": {
      "text/plain": [
       "requests.models.Response"
      ]
     },
     "execution_count": 73,
     "metadata": {},
     "output_type": "execute_result"
    }
   ],
   "source": [
    "type(hum_value)\n",
    "type(temp_value)"
   ]
  },
  {
   "cell_type": "code",
   "execution_count": 74,
   "id": "c4cad075",
   "metadata": {},
   "outputs": [],
   "source": [
    "#dir(hum_value)"
   ]
  },
  {
   "cell_type": "code",
   "execution_count": 75,
   "id": "20d50b7b",
   "metadata": {},
   "outputs": [
    {
     "data": {
      "text/plain": [
       "b'{\"link\":\"http://192.168.1.100:8080/rest/items/ZWave_Node_005_Sensor_temperature\",\"state\":\"26.2 \\xc2\\xb0C\",\"stateDescription\":{\"pattern\":\"%.1f %unit%\",\"readOnly\":true,\"options\":[]},\"editable\":true,\"type\":\"Number:Temperature\",\"name\":\"ZWave_Node_005_Sensor_temperature\",\"label\":\"Sensor (temperature)\",\"category\":\"Temperature\",\"tags\":[\"Point\"],\"groupNames\":[]}'"
      ]
     },
     "execution_count": 75,
     "metadata": {},
     "output_type": "execute_result"
    }
   ],
   "source": [
    "my_hum_content=hum_value.content\n",
    "my_temp_content=temp_value.content\n",
    "\n",
    "temp_value.content"
   ]
  },
  {
   "cell_type": "code",
   "execution_count": 76,
   "id": "17ebf41d",
   "metadata": {},
   "outputs": [],
   "source": [
    "#my_content=hum_value.content\n"
   ]
  },
  {
   "cell_type": "code",
   "execution_count": 77,
   "id": "9a314cac",
   "metadata": {},
   "outputs": [
    {
     "name": "stdout",
     "output_type": "stream",
     "text": [
      "<class 'bytes'>\n",
      "<class 'bytes'>\n"
     ]
    }
   ],
   "source": [
    "print(type(my_hum_content))\n",
    "print(type(my_temp_content))"
   ]
  },
  {
   "attachments": {},
   "cell_type": "markdown",
   "id": "090b2978",
   "metadata": {},
   "source": [
    "### A2) dictionary mit json.loads aus dem \"return-object\" erzeugen"
   ]
  },
  {
   "cell_type": "code",
   "execution_count": 78,
   "id": "cb53cd5d",
   "metadata": {},
   "outputs": [
    {
     "name": "stdout",
     "output_type": "stream",
     "text": [
      "<class 'dict'>\n",
      "<class 'dict'>\n"
     ]
    }
   ],
   "source": [
    "# json.loads requires the decoded bytestring (which is a string) as argument and returns a python dictionary\n",
    "# .decode togethe with json.loads is optional\n",
    "print(type(json.loads(my_hum_content.decode(\"utf-8\"))))\n",
    "print(type(json.loads(my_temp_content.decode(\"utf-8\"))))\n",
    "hum = json.loads(my_hum_content.decode(\"utf-8\"))\n",
    "temp = json.loads(my_temp_content.decode(\"utf-8\"))"
   ]
  },
  {
   "attachments": {},
   "cell_type": "markdown",
   "id": "f32ef25c",
   "metadata": {},
   "source": [
    "### A3) dekodierte Sensor - Messwerte mit \"print\" ausgeben"
   ]
  },
  {
   "cell_type": "code",
   "execution_count": 79,
   "id": "3f61e24c",
   "metadata": {},
   "outputs": [
    {
     "name": "stdout",
     "output_type": "stream",
     "text": [
      "<class 'str'>\n",
      "{\"link\":\"http://192.168.1.100:8080/rest/items/ZWave_Node_005_Sensor_relative_humidity\",\"state\":\"35\",\"stateDescription\":{\"pattern\":\"%.1f\",\"readOnly\":true,\"options\":[]},\"editable\":true,\"type\":\"Number\",\"name\":\"ZWave_Node_005_Sensor_relative_humidity\",\"label\":\"Sensor (relative humidity)\",\"category\":\"Humidity\",\"tags\":[\"Point\"],\"groupNames\":[]}\n",
      "{\"link\":\"http://192.168.1.100:8080/rest/items/ZWave_Node_005_Sensor_temperature\",\"state\":\"26.2 °C\",\"stateDescription\":{\"pattern\":\"%.1f %unit%\",\"readOnly\":true,\"options\":[]},\"editable\":true,\"type\":\"Number:Temperature\",\"name\":\"ZWave_Node_005_Sensor_temperature\",\"label\":\"Sensor (temperature)\",\"category\":\"Temperature\",\"tags\":[\"Point\"],\"groupNames\":[]}\n"
     ]
    }
   ],
   "source": [
    "# The result - bytestring can be decoded and printed directly as a string without using json.loads , \n",
    "# however if you pass it as an argument into the \"json-loads\" function you can create a dictionary\n",
    "print(type(my_hum_content.decode()))\n",
    "print(my_hum_content.decode())\n",
    "print(my_temp_content.decode())"
   ]
  },
  {
   "attachments": {},
   "cell_type": "markdown",
   "id": "eeb233cb",
   "metadata": {},
   "source": [
    "### A4) Input Arbeitsaufgabe 1/ Messwerte als .json file speichern"
   ]
  },
  {
   "attachments": {
    "099e3099-bc9d-4802-80a6-77b2417fee58.png": {
     "image/png": "[encoded data removed]"
    }
   },
   "cell_type": "markdown",
   "id": "c742bb1c",
   "metadata": {},
   "source": [
    "https://docs.python.org/3/library/json.html\n",
    "![image.png](attachment:099e3099-bc9d-4802-80a6-77b2417fee58.png)"
   ]
  },
  {
   "cell_type": "code",
   "execution_count": 80,
   "id": "01295594",
   "metadata": {},
   "outputs": [
    {
     "name": "stdout",
     "output_type": "stream",
     "text": [
      "1685691246\n",
      "35\n",
      "26.2 \n",
      "1685691306\n",
      "35\n",
      "26.3 \n",
      "1685691367\n",
      "35\n",
      "26.3 \n",
      "1685691427\n",
      "35\n",
      "26.3 \n",
      "1685691487\n",
      "35\n",
      "26.3 \n",
      "1685691548\n",
      "35\n",
      "26.3 \n",
      "1685691608\n",
      "35\n",
      "26.4 \n",
      "1685691669\n",
      "35\n",
      "26.4 \n",
      "1685691729\n",
      "35\n",
      "26.4 \n",
      "1685691789\n",
      "35\n",
      "26.4 \n"
     ]
    }
   ],
   "source": [
    "# in order to store the values as a json file, you might create and open a file, \n",
    "# continuously get the current sensor readings and finally store them in the json - file\n",
    "# the code - snippet doesn't meet the requirements of the assignment in terms of time- interval, \n",
    "# sensor - readings, etc.\n",
    "\n",
    "import time\n",
    "import pandas as pd\n",
    "my_values_df = pd.DataFrame(data=None,columns=['timestamp','temperature','humidity','luminance','ultraviolet'])\n",
    "my_timestamp = round(time.time())\n",
    "for my_counter in range(10):\n",
    "    time.sleep(60)\n",
    "    my_timestamp = round(time.time())\n",
    "    print(my_timestamp)\n",
    "    \n",
    "    hum_value = requests.get(my_hum_data)\n",
    "    temp_value = requests.get(my_temp_data)\n",
    "    ultraviolet_value = requests.get(my_ultraviolet_data)\n",
    "    lum_value = requests.get(my_lum_data)\n",
    "\n",
    "    \n",
    "\n",
    "    hum = json.loads(hum_value.content)\n",
    "    temp = json.loads(temp_value.content)\n",
    "    lum = json.loads(lum_value.content)\n",
    "    ultra = json.loads(ultraviolet_value.content)\n",
    "\n",
    "    # Daten auslesen\n",
    "    act_temp = temp['state']\n",
    "    act_hum = hum['state']\n",
    "    act_lum = lum['state']\n",
    "    act_ult = ultra['state']\n",
    "    # °C von temperature entfernen\n",
    "    act_temp = act_temp.replace('°C', '')\n",
    "\n",
    "    print(act_hum)\n",
    "    print(act_temp)\n",
    "    input_values = [my_timestamp,act_temp,act_hum,act_lum,act_ult] \n",
    "    my_values_df.loc[my_counter]=input_values\n",
    "\n",
    "filename = \"a_sensor_values\"\n",
    "with open(filename, 'w+') as jsonfile:\n",
    "    my_values_df.to_json(jsonfile)\n",
    "    "
   ]
  },
  {
   "cell_type": "code",
   "execution_count": 81,
   "id": "052d530d",
   "metadata": {},
   "outputs": [
    {
     "data": {
      "text/html": [
       "<div>\n",
       "<style scoped>\n",
       "    .dataframe tbody tr th:only-of-type {\n",
       "        vertical-align: middle;\n",
       "    }\n",
       "\n",
       "    .dataframe tbody tr th {\n",
       "        vertical-align: top;\n",
       "    }\n",
       "\n",
       "    .dataframe thead th {\n",
       "        text-align: right;\n",
       "    }\n",
       "</style>\n",
       "<table border=\"1\" class=\"dataframe\">\n",
       "  <thead>\n",
       "    <tr style=\"text-align: right;\">\n",
       "      <th></th>\n",
       "      <th>timestamp</th>\n",
       "      <th>temperature</th>\n",
       "      <th>humidity</th>\n",
       "      <th>luminance</th>\n",
       "      <th>ultraviolet</th>\n",
       "    </tr>\n",
       "  </thead>\n",
       "  <tbody>\n",
       "    <tr>\n",
       "      <th>0</th>\n",
       "      <td>2023-06-02 07:34:06</td>\n",
       "      <td>26.2</td>\n",
       "      <td>35</td>\n",
       "      <td>10</td>\n",
       "      <td>0</td>\n",
       "    </tr>\n",
       "    <tr>\n",
       "      <th>1</th>\n",
       "      <td>2023-06-02 07:35:06</td>\n",
       "      <td>26.3</td>\n",
       "      <td>35</td>\n",
       "      <td>8</td>\n",
       "      <td>0</td>\n",
       "    </tr>\n",
       "    <tr>\n",
       "      <th>2</th>\n",
       "      <td>2023-06-02 07:36:07</td>\n",
       "      <td>26.3</td>\n",
       "      <td>35</td>\n",
       "      <td>10</td>\n",
       "      <td>0</td>\n",
       "    </tr>\n",
       "    <tr>\n",
       "      <th>3</th>\n",
       "      <td>2023-06-02 07:37:07</td>\n",
       "      <td>26.3</td>\n",
       "      <td>35</td>\n",
       "      <td>10</td>\n",
       "      <td>0</td>\n",
       "    </tr>\n",
       "    <tr>\n",
       "      <th>4</th>\n",
       "      <td>2023-06-02 07:38:07</td>\n",
       "      <td>26.3</td>\n",
       "      <td>35</td>\n",
       "      <td>10</td>\n",
       "      <td>0</td>\n",
       "    </tr>\n",
       "    <tr>\n",
       "      <th>5</th>\n",
       "      <td>2023-06-02 07:39:08</td>\n",
       "      <td>26.3</td>\n",
       "      <td>35</td>\n",
       "      <td>10</td>\n",
       "      <td>0</td>\n",
       "    </tr>\n",
       "    <tr>\n",
       "      <th>6</th>\n",
       "      <td>2023-06-02 07:40:08</td>\n",
       "      <td>26.4</td>\n",
       "      <td>35</td>\n",
       "      <td>10</td>\n",
       "      <td>0</td>\n",
       "    </tr>\n",
       "    <tr>\n",
       "      <th>7</th>\n",
       "      <td>2023-06-02 07:41:09</td>\n",
       "      <td>26.4</td>\n",
       "      <td>35</td>\n",
       "      <td>10</td>\n",
       "      <td>0</td>\n",
       "    </tr>\n",
       "    <tr>\n",
       "      <th>8</th>\n",
       "      <td>2023-06-02 07:42:09</td>\n",
       "      <td>26.4</td>\n",
       "      <td>35</td>\n",
       "      <td>10</td>\n",
       "      <td>0</td>\n",
       "    </tr>\n",
       "    <tr>\n",
       "      <th>9</th>\n",
       "      <td>2023-06-02 07:43:09</td>\n",
       "      <td>26.4</td>\n",
       "      <td>35</td>\n",
       "      <td>10</td>\n",
       "      <td>0</td>\n",
       "    </tr>\n",
       "  </tbody>\n",
       "</table>\n",
       "</div>"
      ],
      "text/plain": [
       "            timestamp  temperature  humidity  luminance  ultraviolet\n",
       "0 2023-06-02 07:34:06         26.2        35         10            0\n",
       "1 2023-06-02 07:35:06         26.3        35          8            0\n",
       "2 2023-06-02 07:36:07         26.3        35         10            0\n",
       "3 2023-06-02 07:37:07         26.3        35         10            0\n",
       "4 2023-06-02 07:38:07         26.3        35         10            0\n",
       "5 2023-06-02 07:39:08         26.3        35         10            0\n",
       "6 2023-06-02 07:40:08         26.4        35         10            0\n",
       "7 2023-06-02 07:41:09         26.4        35         10            0\n",
       "8 2023-06-02 07:42:09         26.4        35         10            0\n",
       "9 2023-06-02 07:43:09         26.4        35         10            0"
      ]
     },
     "execution_count": 81,
     "metadata": {},
     "output_type": "execute_result"
    }
   ],
   "source": [
    "#retrieve values from .json file via \n",
    "pd.read_json(filename)"
   ]
  },
  {
   "attachments": {},
   "cell_type": "markdown",
   "id": "d3ed3386",
   "metadata": {},
   "source": [
    "### A5) Input Arbeitsaufgabe 1/ Messwerte fortlaufend in einem .db file mitschreiben"
   ]
  },
  {
   "attachments": {
    "e85b69ad-653c-4a6b-8d9a-94558d8bb272.png": {
     "image/png": "[encoded data removed]"
    }
   },
   "cell_type": "markdown",
   "id": "d061f9f9",
   "metadata": {},
   "source": [
    "![image.png](attachment:e85b69ad-653c-4a6b-8d9a-94558d8bb272.png)"
   ]
  },
  {
   "cell_type": "code",
   "execution_count": 82,
   "id": "9901de63",
   "metadata": {},
   "outputs": [
    {
     "name": "stdout",
     "output_type": "stream",
     "text": [
      "a_sensor_values.db\n",
      "1685691850\n",
      "INSERT INTO sensor_values VALUES (1685691850, 26.4 , 35, 10, 0)\n",
      "1685691910\n",
      "INSERT INTO sensor_values VALUES (1685691910, 26.4 , 35, 10, 0)\n",
      "1685691970\n",
      "INSERT INTO sensor_values VALUES (1685691970, 26.4 , 35, 10, 0)\n",
      "1685692030\n",
      "INSERT INTO sensor_values VALUES (1685692030, 26.4 , 35, 10, 0)\n",
      "1685692091\n",
      "INSERT INTO sensor_values VALUES (1685692091, 26.4 , 35, 10, 0)\n",
      "1685692151\n",
      "INSERT INTO sensor_values VALUES (1685692151, 26.5 , 35, 10, 0)\n",
      "1685692212\n",
      "INSERT INTO sensor_values VALUES (1685692212, 26.5 , 36, 743, 0)\n",
      "1685692272\n",
      "INSERT INTO sensor_values VALUES (1685692272, 26.4 , 35, 743, 0)\n",
      "1685692333\n",
      "INSERT INTO sensor_values VALUES (1685692333, 26.3 , 35, 723, 0)\n",
      "1685692393\n",
      "INSERT INTO sensor_values VALUES (1685692393, 26.2 , 35, 678, 0)\n"
     ]
    }
   ],
   "source": [
    "#!pip install sqlite3\n",
    "import sqlite3\n",
    "\n",
    "#cnx = sqlite3.connect(':memory:') alternative in memory database\n",
    "sqlite_db = 'a_sensor_values.db' # String for creating DB in specified directory\n",
    "print(sqlite_db)\n",
    "\n",
    "conn=sqlite3.connect(sqlite_db) # Creates sqlite Database - check in your file explorer\n",
    "cur=conn.cursor()\n",
    "cur.execute('''DROP TABLE IF EXISTS sensor_values''')\n",
    "cur.execute('''CREATE TABLE sensor_values(timestamp NUMERIC,temperature NUMERIC, humidity NUMERIC, luminance NUMERIC, ultraviolet NUMERIC);''')\n",
    "\n",
    "for my_counter in range(10):\n",
    "    time.sleep(60)\n",
    "    my_timestamp = round(time.time())\n",
    "    print(my_timestamp)\n",
    "\n",
    "    hum_value = requests.get(my_hum_data)\n",
    "    temp_value = requests.get(my_temp_data)\n",
    "    ultraviolet_value = requests.get(my_ultraviolet_data)\n",
    "    lum_value = requests.get(my_lum_data)\n",
    "\n",
    "    act_temp = act_temp.replace('°C', '')\n",
    "\n",
    "    hum = json.loads(hum_value.content)\n",
    "    temp = json.loads(temp_value.content)\n",
    "    lum = json.loads(lum_value.content)\n",
    "    ultra = json.loads(ultraviolet_value.content)\n",
    "\n",
    "    # Daten auslesen\n",
    "    act_temp = temp['state']\n",
    "    act_hum = hum['state']\n",
    "    act_lum = lum['state']\n",
    "    act_ult = ultra['state']\n",
    "    # °C von temperature entfernen\n",
    "    act_temp = act_temp.replace('°C', '')\n",
    "# CREATE INSERT STATEMENT\n",
    "    execution_string = f\"INSERT INTO sensor_values VALUES ({my_timestamp}, {act_temp}, {act_hum}, {act_lum}, {act_ult})\"\n",
    "    print(execution_string)\n",
    "    cur.execute(execution_string)\n",
    "    conn.commit()"
   ]
  },
  {
   "cell_type": "code",
   "execution_count": 83,
   "id": "faa65805",
   "metadata": {},
   "outputs": [
    {
     "name": "stdout",
     "output_type": "stream",
     "text": [
      "[(1685691850, 26.4, 35, 10, 0), (1685691910, 26.4, 35, 10, 0), (1685691970, 26.4, 35, 10, 0), (1685692030, 26.4, 35, 10, 0), (1685692091, 26.4, 35, 10, 0), (1685692151, 26.5, 35, 10, 0), (1685692212, 26.5, 36, 743, 0), (1685692272, 26.4, 35, 743, 0), (1685692333, 26.3, 35, 723, 0), (1685692393, 26.2, 35, 678, 0)]\n"
     ]
    }
   ],
   "source": [
    "# fetch values directly from db cursor\n",
    "cur.execute(\"SELECT * FROM sensor_values\")\n",
    "print(cur.fetchall())"
   ]
  },
  {
   "cell_type": "code",
   "execution_count": 84,
   "id": "f3a75040",
   "metadata": {},
   "outputs": [
    {
     "data": {
      "text/html": [
       "<div>\n",
       "<style scoped>\n",
       "    .dataframe tbody tr th:only-of-type {\n",
       "        vertical-align: middle;\n",
       "    }\n",
       "\n",
       "    .dataframe tbody tr th {\n",
       "        vertical-align: top;\n",
       "    }\n",
       "\n",
       "    .dataframe thead th {\n",
       "        text-align: right;\n",
       "    }\n",
       "</style>\n",
       "<table border=\"1\" class=\"dataframe\">\n",
       "  <thead>\n",
       "    <tr style=\"text-align: right;\">\n",
       "      <th></th>\n",
       "      <th>timestamp</th>\n",
       "      <th>temperature</th>\n",
       "      <th>humidity</th>\n",
       "      <th>luminance</th>\n",
       "      <th>ultraviolet</th>\n",
       "    </tr>\n",
       "  </thead>\n",
       "  <tbody>\n",
       "    <tr>\n",
       "      <th>0</th>\n",
       "      <td>1685691850</td>\n",
       "      <td>26.4</td>\n",
       "      <td>35</td>\n",
       "      <td>10</td>\n",
       "      <td>0</td>\n",
       "    </tr>\n",
       "    <tr>\n",
       "      <th>1</th>\n",
       "      <td>1685691910</td>\n",
       "      <td>26.4</td>\n",
       "      <td>35</td>\n",
       "      <td>10</td>\n",
       "      <td>0</td>\n",
       "    </tr>\n",
       "    <tr>\n",
       "      <th>2</th>\n",
       "      <td>1685691970</td>\n",
       "      <td>26.4</td>\n",
       "      <td>35</td>\n",
       "      <td>10</td>\n",
       "      <td>0</td>\n",
       "    </tr>\n",
       "    <tr>\n",
       "      <th>3</th>\n",
       "      <td>1685692030</td>\n",
       "      <td>26.4</td>\n",
       "      <td>35</td>\n",
       "      <td>10</td>\n",
       "      <td>0</td>\n",
       "    </tr>\n",
       "    <tr>\n",
       "      <th>4</th>\n",
       "      <td>1685692091</td>\n",
       "      <td>26.4</td>\n",
       "      <td>35</td>\n",
       "      <td>10</td>\n",
       "      <td>0</td>\n",
       "    </tr>\n",
       "    <tr>\n",
       "      <th>5</th>\n",
       "      <td>1685692151</td>\n",
       "      <td>26.5</td>\n",
       "      <td>35</td>\n",
       "      <td>10</td>\n",
       "      <td>0</td>\n",
       "    </tr>\n",
       "    <tr>\n",
       "      <th>6</th>\n",
       "      <td>1685692212</td>\n",
       "      <td>26.5</td>\n",
       "      <td>36</td>\n",
       "      <td>743</td>\n",
       "      <td>0</td>\n",
       "    </tr>\n",
       "    <tr>\n",
       "      <th>7</th>\n",
       "      <td>1685692272</td>\n",
       "      <td>26.4</td>\n",
       "      <td>35</td>\n",
       "      <td>743</td>\n",
       "      <td>0</td>\n",
       "    </tr>\n",
       "    <tr>\n",
       "      <th>8</th>\n",
       "      <td>1685692333</td>\n",
       "      <td>26.3</td>\n",
       "      <td>35</td>\n",
       "      <td>723</td>\n",
       "      <td>0</td>\n",
       "    </tr>\n",
       "    <tr>\n",
       "      <th>9</th>\n",
       "      <td>1685692393</td>\n",
       "      <td>26.2</td>\n",
       "      <td>35</td>\n",
       "      <td>678</td>\n",
       "      <td>0</td>\n",
       "    </tr>\n",
       "  </tbody>\n",
       "</table>\n",
       "</div>"
      ],
      "text/plain": [
       "    timestamp  temperature  humidity  luminance  ultraviolet\n",
       "0  1685691850         26.4        35         10            0\n",
       "1  1685691910         26.4        35         10            0\n",
       "2  1685691970         26.4        35         10            0\n",
       "3  1685692030         26.4        35         10            0\n",
       "4  1685692091         26.4        35         10            0\n",
       "5  1685692151         26.5        35         10            0\n",
       "6  1685692212         26.5        36        743            0\n",
       "7  1685692272         26.4        35        743            0\n",
       "8  1685692333         26.3        35        723            0\n",
       "9  1685692393         26.2        35        678            0"
      ]
     },
     "execution_count": 84,
     "metadata": {},
     "output_type": "execute_result"
    }
   ],
   "source": [
    "# retrieve values via pd library from local database\n",
    "pd.read_sql(\"SELECT * FROM sensor_values;\", conn)"
   ]
  },
  {
   "attachments": {},
   "cell_type": "markdown",
   "id": "1627c810",
   "metadata": {},
   "source": []
  },
  {
   "cell_type": "code",
   "execution_count": 85,
   "metadata": {},
   "outputs": [
    {
     "name": "stdout",
     "output_type": "stream",
     "text": [
      "timestamp      1.685692e+09\n",
      "temperature    2.640000e+01\n",
      "humidity       3.500000e+01\n",
      "luminance      1.000000e+01\n",
      "ultraviolet    0.000000e+00\n",
      "Name: 0, dtype: float64\n",
      "0:00:00\n",
      "timestamp      1.685692e+09\n",
      "temperature    2.640000e+01\n",
      "humidity       3.500000e+01\n",
      "luminance      1.000000e+01\n",
      "ultraviolet    0.000000e+00\n",
      "Name: 1, dtype: float64\n",
      "0:01:00\n",
      "timestamp      1.685692e+09\n",
      "temperature    2.640000e+01\n",
      "humidity       3.500000e+01\n",
      "luminance      1.000000e+01\n",
      "ultraviolet    0.000000e+00\n",
      "Name: 2, dtype: float64\n",
      "0:02:00\n",
      "timestamp      1.685692e+09\n",
      "temperature    2.640000e+01\n",
      "humidity       3.500000e+01\n",
      "luminance      1.000000e+01\n",
      "ultraviolet    0.000000e+00\n",
      "Name: 3, dtype: float64\n",
      "0:03:00\n",
      "timestamp      1.685692e+09\n",
      "temperature    2.640000e+01\n",
      "humidity       3.500000e+01\n",
      "luminance      1.000000e+01\n",
      "ultraviolet    0.000000e+00\n",
      "Name: 4, dtype: float64\n",
      "0:04:01\n",
      "timestamp      1.685692e+09\n",
      "temperature    2.650000e+01\n",
      "humidity       3.500000e+01\n",
      "luminance      1.000000e+01\n",
      "ultraviolet    0.000000e+00\n",
      "Name: 5, dtype: float64\n",
      "0:05:01\n",
      "timestamp      1.685692e+09\n",
      "temperature    2.650000e+01\n",
      "humidity       3.600000e+01\n",
      "luminance      7.430000e+02\n",
      "ultraviolet    0.000000e+00\n",
      "Name: 6, dtype: float64\n",
      "0:06:02\n",
      "timestamp      1.685692e+09\n",
      "temperature    2.640000e+01\n",
      "humidity       3.500000e+01\n",
      "luminance      7.430000e+02\n",
      "ultraviolet    0.000000e+00\n",
      "Name: 7, dtype: float64\n",
      "0:07:02\n",
      "timestamp      1.685692e+09\n",
      "temperature    2.630000e+01\n",
      "humidity       3.500000e+01\n",
      "luminance      7.230000e+02\n",
      "ultraviolet    0.000000e+00\n",
      "Name: 8, dtype: float64\n",
      "0:08:03\n",
      "timestamp      1.685692e+09\n",
      "temperature    2.620000e+01\n",
      "humidity       3.500000e+01\n",
      "luminance      6.780000e+02\n",
      "ultraviolet    0.000000e+00\n",
      "Name: 9, dtype: float64\n",
      "0:09:03\n"
     ]
    },
    {
     "data": {
      "image/png": "[encoded data removed]",
      "text/plain": [
       "<Figure size 1000x600 with 1 Axes>"
      ]
     },
     "metadata": {},
     "output_type": "display_data"
    }
   ],
   "source": [
    "import matplotlib.pyplot as plt\n",
    "import datetime\n",
    "plot_df=pd.read_sql(\"SELECT * FROM sensor_values;\", conn)\n",
    "\n",
    "timestamps=[]\n",
    "for i,row in plot_df.iterrows():\n",
    "   print(row)\n",
    "   first_time= plot_df.iloc[0]['timestamp']\n",
    "   second_time= plot_df.iloc[i]['timestamp']  \n",
    "   duration =  second_time - first_time\n",
    "   calc_seconds=str(datetime.timedelta(seconds=duration))\n",
    "   print(calc_seconds)\n",
    "   timestamps.append(calc_seconds)\n",
    "\n",
    "\n",
    "# Create the chart\n",
    "\n",
    "plt.figure(figsize=(10, 6))\n",
    "plt.plot(timestamps,plot_df['temperature'], 'b', label='Temperature')\n",
    "plt.plot(timestamps,plot_df['humidity'], 'r', label='Humidity')\n",
    "\n",
    "plt.xlabel('Unix Time')\n",
    "plt.ylabel('Value')\n",
    "plt.title('Unix Time vs Temperature & Humidity')\n",
    "plt.legend(loc='upper right')\n",
    "\n",
    "plt.show()"
   ]
  },
  {
   "cell_type": "code",
   "execution_count": 86,
   "id": "efbdb576",
   "metadata": {},
   "outputs": [
    {
     "name": "stdout",
     "output_type": "stream",
     "text": [
      "timestamp      1.685692e+09\n",
      "temperature    2.640000e+01\n",
      "humidity       3.500000e+01\n",
      "luminance      1.000000e+01\n",
      "ultraviolet    0.000000e+00\n",
      "Name: 0, dtype: float64\n",
      "0:00:00\n",
      "timestamp      1.685692e+09\n",
      "temperature    2.640000e+01\n",
      "humidity       3.500000e+01\n",
      "luminance      1.000000e+01\n",
      "ultraviolet    0.000000e+00\n",
      "Name: 1, dtype: float64\n",
      "0:01:00\n",
      "timestamp      1.685692e+09\n",
      "temperature    2.640000e+01\n",
      "humidity       3.500000e+01\n",
      "luminance      1.000000e+01\n",
      "ultraviolet    0.000000e+00\n",
      "Name: 2, dtype: float64\n",
      "0:02:00\n",
      "timestamp      1.685692e+09\n",
      "temperature    2.640000e+01\n",
      "humidity       3.500000e+01\n",
      "luminance      1.000000e+01\n",
      "ultraviolet    0.000000e+00\n",
      "Name: 3, dtype: float64\n",
      "0:03:00\n",
      "timestamp      1.685692e+09\n",
      "temperature    2.640000e+01\n",
      "humidity       3.500000e+01\n",
      "luminance      1.000000e+01\n",
      "ultraviolet    0.000000e+00\n",
      "Name: 4, dtype: float64\n",
      "0:04:01\n",
      "timestamp      1.685692e+09\n",
      "temperature    2.650000e+01\n",
      "humidity       3.500000e+01\n",
      "luminance      1.000000e+01\n",
      "ultraviolet    0.000000e+00\n",
      "Name: 5, dtype: float64\n",
      "0:05:01\n",
      "timestamp      1.685692e+09\n",
      "temperature    2.650000e+01\n",
      "humidity       3.600000e+01\n",
      "luminance      7.430000e+02\n",
      "ultraviolet    0.000000e+00\n",
      "Name: 6, dtype: float64\n",
      "0:06:02\n",
      "timestamp      1.685692e+09\n",
      "temperature    2.640000e+01\n",
      "humidity       3.500000e+01\n",
      "luminance      7.430000e+02\n",
      "ultraviolet    0.000000e+00\n",
      "Name: 7, dtype: float64\n",
      "0:07:02\n",
      "timestamp      1.685692e+09\n",
      "temperature    2.630000e+01\n",
      "humidity       3.500000e+01\n",
      "luminance      7.230000e+02\n",
      "ultraviolet    0.000000e+00\n",
      "Name: 8, dtype: float64\n",
      "0:08:03\n",
      "timestamp      1.685692e+09\n",
      "temperature    2.620000e+01\n",
      "humidity       3.500000e+01\n",
      "luminance      6.780000e+02\n",
      "ultraviolet    0.000000e+00\n",
      "Name: 9, dtype: float64\n",
      "0:09:03\n"
     ]
    },
    {
     "data": {
      "image/png": "[encoded data removed]",
      "text/plain": [
       "<Figure size 1000x600 with 1 Axes>"
      ]
     },
     "metadata": {},
     "output_type": "display_data"
    }
   ],
   "source": [
    "import matplotlib.pyplot as plt\n",
    "import datetime\n",
    "plot_df=pd.read_sql(\"SELECT * FROM sensor_values;\", conn)\n",
    "\n",
    "timestamps=[]\n",
    "for i,row in plot_df.iterrows():\n",
    "   print(row)\n",
    "   first_time= plot_df.iloc[0]['timestamp']\n",
    "   second_time= plot_df.iloc[i]['timestamp']  \n",
    "   duration =  second_time - first_time\n",
    "   calc_seconds=str(datetime.timedelta(seconds=duration))\n",
    "   print(calc_seconds)\n",
    "   timestamps.append(calc_seconds)\n",
    "\n",
    "\n",
    "# Create the chart\n",
    "\n",
    "plt.figure(figsize=(10, 6))\n",
    "plt.plot(timestamps,plot_df['luminance'], 'b', label='luminance')\n",
    "\n",
    "\n",
    "plt.xlabel('Unix Time')\n",
    "plt.ylabel('Value')\n",
    "plt.title('Unix Time vs Temperature & Humidity')\n",
    "plt.legend(loc='upper right')\n",
    "\n",
    "plt.show()"
   ]
  },
  {
   "cell_type": "code",
   "execution_count": 87,
   "id": "5a799c54",
   "metadata": {},
   "outputs": [
    {
     "name": "stdout",
     "output_type": "stream",
     "text": [
      "timestamp      1.685692e+09\n",
      "temperature    2.640000e+01\n",
      "humidity       3.500000e+01\n",
      "luminance      1.000000e+01\n",
      "ultraviolet    0.000000e+00\n",
      "Name: 0, dtype: float64\n",
      "0:00:00\n",
      "timestamp      1.685692e+09\n",
      "temperature    2.640000e+01\n",
      "humidity       3.500000e+01\n",
      "luminance      1.000000e+01\n",
      "ultraviolet    0.000000e+00\n",
      "Name: 1, dtype: float64\n",
      "0:01:00\n",
      "timestamp      1.685692e+09\n",
      "temperature    2.640000e+01\n",
      "humidity       3.500000e+01\n",
      "luminance      1.000000e+01\n",
      "ultraviolet    0.000000e+00\n",
      "Name: 2, dtype: float64\n",
      "0:02:00\n",
      "timestamp      1.685692e+09\n",
      "temperature    2.640000e+01\n",
      "humidity       3.500000e+01\n",
      "luminance      1.000000e+01\n",
      "ultraviolet    0.000000e+00\n",
      "Name: 3, dtype: float64\n",
      "0:03:00\n",
      "timestamp      1.685692e+09\n",
      "temperature    2.640000e+01\n",
      "humidity       3.500000e+01\n",
      "luminance      1.000000e+01\n",
      "ultraviolet    0.000000e+00\n",
      "Name: 4, dtype: float64\n",
      "0:04:01\n",
      "timestamp      1.685692e+09\n",
      "temperature    2.650000e+01\n",
      "humidity       3.500000e+01\n",
      "luminance      1.000000e+01\n",
      "ultraviolet    0.000000e+00\n",
      "Name: 5, dtype: float64\n",
      "0:05:01\n",
      "timestamp      1.685692e+09\n",
      "temperature    2.650000e+01\n",
      "humidity       3.600000e+01\n",
      "luminance      7.430000e+02\n",
      "ultraviolet    0.000000e+00\n",
      "Name: 6, dtype: float64\n",
      "0:06:02\n",
      "timestamp      1.685692e+09\n",
      "temperature    2.640000e+01\n",
      "humidity       3.500000e+01\n",
      "luminance      7.430000e+02\n",
      "ultraviolet    0.000000e+00\n",
      "Name: 7, dtype: float64\n",
      "0:07:02\n",
      "timestamp      1.685692e+09\n",
      "temperature    2.630000e+01\n",
      "humidity       3.500000e+01\n",
      "luminance      7.230000e+02\n",
      "ultraviolet    0.000000e+00\n",
      "Name: 8, dtype: float64\n",
      "0:08:03\n",
      "timestamp      1.685692e+09\n",
      "temperature    2.620000e+01\n",
      "humidity       3.500000e+01\n",
      "luminance      6.780000e+02\n",
      "ultraviolet    0.000000e+00\n",
      "Name: 9, dtype: float64\n",
      "0:09:03\n"
     ]
    },
    {
     "data": {
      "image/png": "[encoded data removed]",
      "text/plain": [
       "<Figure size 1000x600 with 1 Axes>"
      ]
     },
     "metadata": {},
     "output_type": "display_data"
    }
   ],
   "source": [
    "import matplotlib.pyplot as plt\n",
    "import datetime\n",
    "plot_df=pd.read_sql(\"SELECT * FROM sensor_values;\", conn)\n",
    "\n",
    "timestamps=[]\n",
    "for i,row in plot_df.iterrows():\n",
    "   print(row)\n",
    "   first_time= plot_df.iloc[0]['timestamp']\n",
    "   second_time= plot_df.iloc[i]['timestamp']  \n",
    "   duration =  second_time - first_time\n",
    "   calc_seconds=str(datetime.timedelta(seconds=duration))\n",
    "   print(calc_seconds)\n",
    "   timestamps.append(calc_seconds)\n",
    "\n",
    "\n",
    "# Create the chart\n",
    "\n",
    "plt.figure(figsize=(10, 6))\n",
    "plt.plot(timestamps,plot_df['ultraviolet'], 'b', label='ultraviolet')\n",
    "\n",
    "\n",
    "plt.xlabel('Unix Time')\n",
    "plt.ylabel('Value')\n",
    "plt.title('Unix Time vs Temperature & Humidity')\n",
    "plt.legend(loc='upper right')\n",
    "\n",
    "plt.show()"
   ]
  }
 ],
 "metadata": {
  "kernelspec": {
   "display_name": "Python 3",
   "language": "python",
   "name": "python3"
  },
  "language_info": {
   "codemirror_mode": {
    "name": "ipython",
    "version": 3
   },
   "file_extension": ".py",
   "mimetype": "text/x-python",
   "name": "python",
   "nbconvert_exporter": "python",
   "pygments_lexer": "ipython3",
   "version": "3.10.11"
  }
 },
 "nbformat": 4,
 "nbformat_minor": 5
}
